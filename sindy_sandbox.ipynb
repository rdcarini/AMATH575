{
 "cells": [
  {
   "cell_type": "markdown",
   "id": "c48e47ad",
   "metadata": {},
   "source": [
    "# Shared libraries and packages"
   ]
  },
  {
   "cell_type": "code",
   "execution_count": null,
   "id": "0924fd02",
   "metadata": {},
   "outputs": [],
   "source": [
    "import numpy as np\n",
    "import pylab as p\n",
    "import matplotlib.pyplot as plt\n",
    "import pysindy as ps"
   ]
  },
  {
   "cell_type": "markdown",
   "id": "861437b7",
   "metadata": {},
   "source": [
    "# \"Final\" Code"
   ]
  },
  {
   "cell_type": "code",
   "execution_count": null,
   "id": "29c68884",
   "metadata": {},
   "outputs": [],
   "source": []
  },
  {
   "cell_type": "markdown",
   "id": "061bfb08",
   "metadata": {},
   "source": [
    "# Draft / Playground space below:"
   ]
  },
  {
   "cell_type": "markdown",
   "id": "8c5fe40c",
   "metadata": {},
   "source": [
    "## Clayton Code"
   ]
  },
  {
   "cell_type": "code",
   "execution_count": null,
   "id": "b2ff51e4",
   "metadata": {},
   "outputs": [],
   "source": []
  },
  {
   "cell_type": "markdown",
   "id": "b8e9923a",
   "metadata": {},
   "source": [
    "## Jackie Code"
   ]
  },
  {
   "cell_type": "code",
   "execution_count": null,
   "id": "8f1dc03a",
   "metadata": {},
   "outputs": [],
   "source": []
  },
  {
   "cell_type": "markdown",
   "id": "0dc2b096",
   "metadata": {},
   "source": [
    "## Max Code"
   ]
  },
  {
   "cell_type": "code",
   "execution_count": null,
   "id": "18c7897a",
   "metadata": {},
   "outputs": [],
   "source": []
  },
  {
   "cell_type": "markdown",
   "id": "61a306cd",
   "metadata": {},
   "source": [
    "## Gaurav Code"
   ]
  },
  {
   "cell_type": "code",
   "execution_count": null,
   "id": "201e2644",
   "metadata": {},
   "outputs": [],
   "source": []
  },
  {
   "cell_type": "markdown",
   "id": "8b52faf1",
   "metadata": {},
   "source": [
    "## Richard Code"
   ]
  },
  {
   "cell_type": "code",
   "execution_count": 3,
   "id": "9c92189c",
   "metadata": {},
   "outputs": [
    {
     "name": "stdout",
     "output_type": "stream",
     "text": [
      "Still have work to do :(\n"
     ]
    }
   ],
   "source": [
    "discovered_cure_for_measles = False\n",
    "if discovered_cure_for_measles:\n",
    "    print(\"Project complete\")\n",
    "else:\n",
    "    print(\"Still have work to do :(\")"
   ]
  },
  {
   "cell_type": "code",
   "execution_count": null,
   "id": "8ade84eb",
   "metadata": {},
   "outputs": [],
   "source": []
  }
 ],
 "metadata": {
  "kernelspec": {
   "display_name": "pysindy-venv",
   "language": "python",
   "name": "pysindy-venv"
  },
  "language_info": {
   "codemirror_mode": {
    "name": "ipython",
    "version": 3
   },
   "file_extension": ".py",
   "mimetype": "text/x-python",
   "name": "python",
   "nbconvert_exporter": "python",
   "pygments_lexer": "ipython3",
   "version": "3.12.3"
  }
 },
 "nbformat": 4,
 "nbformat_minor": 5
}
